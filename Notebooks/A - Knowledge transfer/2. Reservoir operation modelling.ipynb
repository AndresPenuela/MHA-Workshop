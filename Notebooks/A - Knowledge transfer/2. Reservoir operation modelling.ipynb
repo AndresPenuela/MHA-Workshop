{
 "cells": [
  {
   "cell_type": "markdown",
   "metadata": {
    "slideshow": {
     "slide_type": "-"
    }
   },
   "source": [
    "# Reservoir operation modelling\n",
    "In this Notebook we will see how simulation models and optimisation algorithms can be used to assist the operation of a water reservoir system.\n",
    "\n",
    "<left><img src=\"../../util/images/Dam1.gif\" width = \"800px\"><left>\n",
    "    \n",
    "We consider a simple illustrative system where a reservoir is operated to supply water to a domestic consumption node, while ensuring a minimum environmental flow in the downstream river (also called “environmental compensation flow”) and maintaining the water level in the reservoir within prescribed limits. We use a mathematical model to link all the key variables that represent the reservoir dynamics (inflow, storage and outflows) and use model simulation/optimisation to determine the reservoir release scheduling that will best meet the water demand over a coming period of time, given the predicted (or assumed) scenario of future inflows.\n",
    "<left> <img src=\"../../util/images/system_representation_IO0.png\" width = \"600px\"><left>"
   ]
  },
  {
   "cell_type": "markdown",
   "metadata": {},
   "source": [
    "## Import libraries\n",
    "Before getting started, let's import some libraries that will be used throughout the Notebook:"
   ]
  },
  {
   "cell_type": "code",
   "execution_count": 1,
   "metadata": {},
   "outputs": [],
   "source": [
    "from bqplot import pyplot as plt\n",
    "from bqplot import *\n",
    "from bqplot.traits import *\n",
    "import numpy as np\n",
    "import ipywidgets as widgets\n",
    "from Modules.Interactive_release_schedule import Interactive_release_single,Interactive_release_double, Interactive_Pareto_front\n",
    "warnings.filterwarnings('ignore') # to ignore warning messages"
   ]
  },
  {
   "cell_type": "markdown",
   "metadata": {},
   "source": [
    "## The reservoir model\n",
    "\n",
    "The mathematical model of the reservoir essentially consists of a water balance equation, where the storage (***s***) at a future time step (for example, at the beginning of the next week) is predicted from the storage at the current time (the beginning of the this week) by adding and subtracting the inflows and outflows that will occur during the temporal interval ahead:\n",
    "\n",
    "$s(t+1) = s(t) + I(t) – E(t) – env(t) - spill(t) – Qreg(t)$   \n",
    "\n",
    "Where\n",
    "\n",
    "***s(t)*** = reservoir storage at time-step t, in Vol (for example: ML)\n",
    "\n",
    "***I(t)*** = reservoir inflows in the interval [t,t+1], in Vol/time (for example: ML/week). This is usually provided by a flow forecasting system or assumed by looking, for example, at historical inflow records for the relevant time of year\n",
    "\n",
    "***E(t)*** = evaporation from the reservoir surface area in the interval [t,t+1], in Vol/time (for example: ML/week). This is calculated internally to the model, by multipling the evaporation rate for unit surface area (which depends on air temperature) by the reservoir surface area (which is derived from the storage S given that the reservoir geometry is known)\n",
    "\n",
    "***env(t)*** = environmental compensation flow in the interval [t,t+1], in Vol/time (for example: ML/week). This is usually set to the value that was agreed upon with the environemtal regulator ([Learn more about the rational behind environmental flows](https://www.youtube.com/watch?v=cbUrrYq9BmU))\n",
    "\n",
    "***spill(t)*** = outflow through spillways (if any) in the interval [t,t+1], in Vol/time (for example: ML/week). This is calculated internally to the model, and is equal to the excess volume with respect to the maximum reservoir capacity (so most of the time ***spill(t)*** is equal to 0 as the maximum capacity is not reached, but it occasionally is >0 so that the capacity is never exceeded)\n",
    "\n",
    "***Qreg(t)*** = regulated reservoir release for water supply in the interval [t,t+1], in Vol/time (for example: ML/week). This is a completely free variable that the reservoir operator will need to specify\n",
    "<left> <img src=\"../../util/images/system_representation_IO1.png\" width = \"600px\"><left>"
   ]
  },
  {
   "cell_type": "markdown",
   "metadata": {},
   "source": [
    "#### Implementation of the reservoir simulation function\n",
    "Here we define a function that implements the reservoir simulation, that is, iteratively apply the mass balance equation and reconstruct the temporal evolution of the reservoir variables over the simulation period"
   ]
  },
  {
   "cell_type": "code",
   "execution_count": 2,
   "metadata": {
    "code_folding": []
   },
   "outputs": [],
   "source": [
    "def syst_sim(N,I,e,d,S0,Smax,env_min,Qreg):\n",
    "\n",
    "    # Declare output variables\n",
    "\n",
    "    S = [0]*(N+1) # reservoir storage in ML\n",
    "\n",
    "    spill = [0]*N # spillage in ML\n",
    "\n",
    "    env = [env_min]*N # environmental compensation flow\n",
    "    \n",
    "    S[0] = S0 # initial storage\n",
    "\n",
    "    for t in range(N): # Loop for each time-step (week)\n",
    "\n",
    "        # If at week t the inflow (I) is lower than the minimum environmental compensation (env_min), \n",
    "        # then the environmental compensation (env) = inflow (I)  \n",
    "        if env_min >= I[t] :\n",
    "            env[t] = I[t]\n",
    "        # If the minimum environmental compensation is higher than the water resource available (S + I - E)\n",
    "        # then the environmental compensation is equal to the higher value between 0 and the resource available\n",
    "        if env_min >= S[t] + I[t] - e[t]:\n",
    "            env[t] = max(0,S[t] + I[t] - e[t]) \n",
    "        # If the demand is higher than the water resource available (S + I - E - env)\n",
    "        # then the release for water supply is equal to the higher value between 0 and the resource available            \n",
    "        if d[t] >= S[t] + I[t] - e[t] - env[t]:\n",
    "            Qreg[t] = min(Qreg[t],max(0,S[t] + I[t] - e[t] - env[t]))\n",
    "        # The spillage is equal to the higher value between 0 and the resource available exceeding the reservoir capacity\n",
    "        spill[t] = max(0,S[t] + I[t] - Qreg[t] - env[t] - e[t] - Smax)\n",
    "        # The final storage (initial storage in the next step) is equal to the storage + inflow - outflows\n",
    "        S[t+1] = S[t] + I[t] - Qreg[t] - env[t]- e[t] - spill[t]\n",
    "        \n",
    "    return S,env,spill,Qreg"
   ]
  },
  {
   "cell_type": "markdown",
   "metadata": {},
   "source": [
    "#### Definition of inflow and demand scenarios\n",
    "Let's assume we want to look at the next 8 weeks the number of weeks (so ***N=8***), and assume we have forecasts of inflows and demand for this period."
   ]
  },
  {
   "cell_type": "code",
   "execution_count": 3,
   "metadata": {},
   "outputs": [],
   "source": [
    "N = 8 # (weeks) length of the simulation period\n",
    "\n",
    "I_fore = np.array([15,17,19,11,9,4,3,8]) # (ML/week) time series of inflow forecasts\n",
    "T_fore = np.array([13,13,17,18,20,22,25,26]) # (degC) time series of temperature forecasts\n",
    "d_fore = np.array([15]*N)*T_fore/15 # (ML/week) time series of demand forecasts, estimated as a function of temperature\n",
    "# (this is onviously a very simplified approach, and one could use a much more sophisticated demand model)"
   ]
  },
  {
   "cell_type": "markdown",
   "metadata": {},
   "source": [
    "Plot the inflow and demand forecasts:"
   ]
  },
  {
   "cell_type": "code",
   "execution_count": 4,
   "metadata": {},
   "outputs": [
    {
     "data": {
      "application/vnd.jupyter.widget-view+json": {
       "model_id": "4d1a2fe37a804b11abae352b5b9e91ff",
       "version_major": 2,
       "version_minor": 0
      },
      "text/plain": [
       "VBox(children=(Figure(axes=[Axis(label='week', scale=LinearScale()), Axis(label='ML/week', orientation='vertic…"
      ]
     },
     "metadata": {},
     "output_type": "display_data"
    }
   ],
   "source": [
    "# Axis characterisitcs\n",
    "x_sc_1 = LinearScale();y_sc_1 = LinearScale(min=0,max=35)\n",
    "x_ax_1 = Axis(label='week', scale=x_sc_1);y_ax_1 = Axis(label='ML/week', scale=y_sc_1, orientation='vertical')\n",
    "# Bar plot\n",
    "inflow_plot = plt.bar(np.arange(1,N+1),I_fore,colors=['blue'],stroke = 'lightgray',scales={'x': x_sc_1, 'y': y_sc_1},\n",
    "                      labels = ['inflow'], display_legend = True)\n",
    "#Figure characteristics\n",
    "fig_1a = plt.Figure(marks = [inflow_plot],title = 'Inflow forecast for the next 8 weeks', axes=[x_ax_1, y_ax_1],\n",
    "                    layout={'min_width': '1000px', 'max_height': '300px'}, legend_style = {'fill': 'white', 'opacity': 0.5})\n",
    "widgets.VBox([fig_1a])"
   ]
  },
  {
   "cell_type": "code",
   "execution_count": 5,
   "metadata": {},
   "outputs": [
    {
     "data": {
      "application/vnd.jupyter.widget-view+json": {
       "model_id": "1a1aa131e453449cb01a9b987cd29339",
       "version_major": 2,
       "version_minor": 0
      },
      "text/plain": [
       "VBox(children=(Figure(axes=[Axis(label='week', scale=LinearScale()), Axis(label='ML/week', orientation='vertic…"
      ]
     },
     "metadata": {},
     "output_type": "display_data"
    }
   ],
   "source": [
    "# Bar plot (we use the same axis as the weekly inflows figure)\n",
    "demand_plot   = plt.bar(np.arange(1,N+1),d_fore,colors=['gray'],stroke = 'lightgray',opacities = [1]*N, \n",
    "                        labels = ['demand'], display_legend = True, \n",
    "                    stroke_width = 1,scales={'x': x_sc_1, 'y': y_sc_1})\n",
    "#Figure characteristics\n",
    "fig_1b = plt.Figure(marks = [demand_plot],title = 'Demand forecast for the next 8 weeks', axes=[x_ax_1, y_ax_1],\n",
    "                    layout={'min_width': '1000px', 'max_height': '300px'}, legend_style = {'fill': 'white', 'opacity': 1})\n",
    "widgets.VBox([fig_1b])"
   ]
  },
  {
   "cell_type": "markdown",
   "metadata": {},
   "source": [
    "#### Definition of other input parameters\n",
    "Let's define other variables that are needed for the reservoir system simulation, such as the reservoir storage capacity, the environmental compensation flow, etc."
   ]
  },
  {
   "cell_type": "code",
   "execution_count": 6,
   "metadata": {},
   "outputs": [],
   "source": [
    "### Constraints ###\n",
    "s_max = 150 #  (ML) Maximum storage (=reservoir capacity)\n",
    "s_min = 0 # (ML) Minimum storage (set to zero for now)\n",
    "env_min = 2 # (ML/week)   # Environmental compensation flow\n",
    "\n",
    "### Initial conditions ###\n",
    "s_0 = 80 # (ML) # Storage volume at the beginning of the simulation period\n",
    "e_fore = T_fore*0.1 # (ML/week) Time series of evaporation from the reservoir (this is a very simplified \n",
    "# approach and could be replaced by a more realistic estimation approach)"
   ]
  },
  {
   "cell_type": "markdown",
   "metadata": {},
   "source": [
    "## Determining the release scheduling by trial and error (manual optimisation)\n",
    "Here we want to use the reservoir model to assist the reservoir operator in determining the best scheduling of regulated reservoir releases (Qreg) in response to a certain scenario of inflows. The goal is to minimise the deficit with respect to a prescribed water demand, that is, to minimise the objective function:\n",
    "\n",
    "$$TSD = \\sum_{t=1}^{N} [ \\ max( \\ 0, \\ d(t)-Qreg(t) \\ ) \\ ]^2 $$\n",
    "\n",
    "where N is the length of the simulation period that we are considering, and d(t) is the water demand for each time-interval in that period, and TSD stands for Total Squared Deficit. Notice that the function $max(0,...)$ enables us to only count the difference between demand d and release u when this is positive, that is, when the release u is smaller than the demand d, and a water shortage is indeed produced. Also, the squaring is a 'mathematical trick' to make sure that larger deficit amounts are given more weight than smaller ones. This translates the fact that small deficit amounts are easier to mitigate and hence more acceptable, while larger ones can cause disproportionately severe impacts and should be avoided as much as possible."
   ]
  },
  {
   "cell_type": "markdown",
   "metadata": {},
   "source": [
    "#### Determining the optimal release scheduling via interactive visualisation\n",
    "\n",
    "Use the slider to set the release amount for each week in the simulation period, and in doing so try to minimise the Total Squared Deficit. "
   ]
  },
  {
   "cell_type": "code",
   "execution_count": 7,
   "metadata": {},
   "outputs": [
    {
     "data": {
      "application/vnd.jupyter.widget-view+json": {
       "model_id": "2b11a239128d4b748488c1cd485993f0",
       "version_major": 2,
       "version_minor": 0
      },
      "text/plain": [
       "VBox(children=(HBox(children=(FloatSlider(value=0.0, description='Week 1', layout=Layout(width='100px'), max=4…"
      ]
     },
     "metadata": {},
     "output_type": "display_data"
    }
   ],
   "source": [
    "# Interactive release scheduling\n",
    "fig_2a,fig_2b,release1,release2,release3,release4,release5,release6,release7,release8 = Interactive_release_single(\n",
    "    N,I_fore,e_fore,d_fore,s_0,s_max,env_min, demand_plot)\n",
    "Box_layout = widgets.Layout(justify_content='center')\n",
    "widgets.VBox([widgets.HBox(\n",
    "    [release1,release2,release3,release4,release5,release6,release7,release8],layout=Box_layout),fig_2b,fig_2a],layout=Box_layout)"
   ]
  },
  {
   "cell_type": "markdown",
   "metadata": {},
   "source": [
    "**Comment**: clearly it is not possible to fully meet the demand at all times in the simulation period. For example if we fully cover the demand for the first 7 weeks, we drawdown the reservoir to a point that we are forced to dramatically reduce the release in the last week, causing a very severe deficit. A more effective approach is to cause smaller deficits across all time steps, that is, tolerate some small deficits even when in principle we may fully cover the demand, in order to prevent more severe deficits in the later period. This type of approach is called ***hedging*** (see for example [You and Cai 2008](https://agupubs.onlinelibrary.wiley.com/doi/10.1029/2006WR005481)).\n",
    "\n",
    "Btw, the minimum TSD value that can be achieved is **49, try to beat it!**"
   ]
  },
  {
   "cell_type": "markdown",
   "metadata": {},
   "source": [
    "## From single to multi-objective\n",
    "Now let's assume that, besides minimising supply deficits, we are also interested in minimising the chances that the reservoir level go below a minimum threshold. This could be, for example, because the quality of the water deteriorates when levels are low, requiring more costly treatment. We measure how well this criterion is satisfied by the following objective function:\n",
    "\n",
    "$$MSV = \\sum_{t=1}^{N} max ( \\ rc - S(t) , \\ 0)$$\n",
    "\n",
    "where, again, N is the length of the simulation period, S is the reservoir storage, and rc is the minimum reservoir storage threshold that should preferably not be transpassed (MSV stands for Minimum Storage Violation). \n",
    "\n",
    "For our case, let's set this threshold to 30 ML:"
   ]
  },
  {
   "cell_type": "code",
   "execution_count": 8,
   "metadata": {},
   "outputs": [],
   "source": [
    "# Minimum storage threshold\n",
    "ms = np.array([30]*(N+1)) # in ML"
   ]
  },
  {
   "cell_type": "markdown",
   "metadata": {},
   "source": [
    "Now use the slider to set the release amount for each week in the simulation period, in a way that jointly minimise the Total Squared Deficit and the Minimum Storage Violation. "
   ]
  },
  {
   "cell_type": "code",
   "execution_count": 9,
   "metadata": {},
   "outputs": [
    {
     "data": {
      "application/vnd.jupyter.widget-view+json": {
       "model_id": "576c269589b249c1bcb7a5855ee0bc23",
       "version_major": 2,
       "version_minor": 0
      },
      "text/plain": [
       "VBox(children=(HBox(children=(FloatSlider(value=0.0, description='Week 1', layout=Layout(width='100px'), max=4…"
      ]
     },
     "metadata": {},
     "output_type": "display_data"
    }
   ],
   "source": [
    "fig_3a,fig_3b,release1,release2,release3,release4,release5,release6,release7,release8 = Interactive_release_double(\n",
    "    N,I_fore,e_fore,d_fore,s_0,s_max,ms,env_min, demand_plot)\n",
    "Box_layout = widgets.Layout(justify_content='center')\n",
    "widgets.VBox([widgets.HBox(\n",
    "    [release1,release2,release3,release4,release5,release6,release7,release8],layout=Box_layout),fig_3b,fig_3a],layout=Box_layout)"
   ]
  },
  {
   "cell_type": "markdown",
   "metadata": {},
   "source": [
    "***Comment*** It is possible to find a release scheduling that produce no violation of the minimum storage threshold, although it will produce some supply deficit - the record is **305, can you beat it?**. However, one could also allow some violation of the storage threshold in order to reduce the deficits. The two objectives are conflicting: improving on one of them implies doing worse on the other."
   ]
  },
  {
   "cell_type": "markdown",
   "metadata": {},
   "source": [
    "### References \n",
    "\n",
    "Deb K. et al (2002) A fast and elitist multiobjective genetic algorithm: NSGA-II, IEEE Transactions on Evolutionary Computation, 6(2), 182-197, doi:10.1109/4235.996017.\n",
    "\n",
    "You J.Y. and Cai X. (2008) Hedging rule for reservoir operations: 1. A theoretical analysis, Water Resour. Res., 44, W01415, doi:10.1029/2006WR005481."
   ]
  },
  {
   "cell_type": "markdown",
   "metadata": {},
   "source": [
    "#### Let's go to the next section!: [3. Calibration and evaluation of a rainfall-runoff model](3.%20Calibration%20and%20evaluation%20of%20a%20rainfall-runoff%20model.ipynb)"
   ]
  },
  {
   "cell_type": "code",
   "execution_count": null,
   "metadata": {},
   "outputs": [],
   "source": []
  }
 ],
 "metadata": {
  "kernelspec": {
   "display_name": "Python 3",
   "language": "python",
   "name": "python3"
  },
  "language_info": {
   "codemirror_mode": {
    "name": "ipython",
    "version": 3
   },
   "file_extension": ".py",
   "mimetype": "text/x-python",
   "name": "python",
   "nbconvert_exporter": "python",
   "pygments_lexer": "ipython3",
   "version": "3.7.4"
  },
  "varInspector": {
   "cols": {
    "lenName": 16,
    "lenType": 16,
    "lenVar": 40
   },
   "kernels_config": {
    "python": {
     "delete_cmd_postfix": "",
     "delete_cmd_prefix": "del ",
     "library": "var_list.py",
     "varRefreshCmd": "print(var_dic_list())"
    },
    "r": {
     "delete_cmd_postfix": ") ",
     "delete_cmd_prefix": "rm(",
     "library": "var_list.r",
     "varRefreshCmd": "cat(var_dic_list()) "
    }
   },
   "types_to_exclude": [
    "module",
    "function",
    "builtin_function_or_method",
    "instance",
    "_Feature"
   ],
   "window_display": false
  }
 },
 "nbformat": 4,
 "nbformat_minor": 4
}
